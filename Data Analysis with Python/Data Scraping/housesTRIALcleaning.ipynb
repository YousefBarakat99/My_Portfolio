{
 "cells": [
  {
   "cell_type": "code",
   "execution_count": 105,
   "metadata": {},
   "outputs": [],
   "source": [
    "import pandas as pd\n",
    "import numpy as np\n",
    "import warnings\n",
    "warnings.filterwarnings(\"ignore\")\n",
    "# from github import Github\n",
    "# import os"
   ]
  },
  {
   "cell_type": "code",
   "execution_count": 106,
   "metadata": {},
   "outputs": [
    {
     "data": {
      "text/html": [
       "<div>\n",
       "<style scoped>\n",
       "    .dataframe tbody tr th:only-of-type {\n",
       "        vertical-align: middle;\n",
       "    }\n",
       "\n",
       "    .dataframe tbody tr th {\n",
       "        vertical-align: top;\n",
       "    }\n",
       "\n",
       "    .dataframe thead th {\n",
       "        text-align: right;\n",
       "    }\n",
       "</style>\n",
       "<table border=\"1\" class=\"dataframe\">\n",
       "  <thead>\n",
       "    <tr style=\"text-align: right;\">\n",
       "      <th></th>\n",
       "      <th>Price (HUF)</th>\n",
       "      <th>Size</th>\n",
       "      <th>Rooms</th>\n",
       "      <th>Address</th>\n",
       "      <th>Link</th>\n",
       "    </tr>\n",
       "  </thead>\n",
       "  <tbody>\n",
       "    <tr>\n",
       "      <th>0</th>\n",
       "      <td>170 000</td>\n",
       "      <td>57</td>\n",
       "      <td>1 living room(s), 1 bedroom(s), 1  bathroom(s)</td>\n",
       "      <td>Debrecen , Böszörményi street</td>\n",
       "      <td>https://www.findahome.hu/ingatlanok/furedi-res...</td>\n",
       "    </tr>\n",
       "    <tr>\n",
       "      <th>1</th>\n",
       "      <td>120 000</td>\n",
       "      <td>35</td>\n",
       "      <td>1 living room(s), 1 bedroom(s), 1  bathroom(s)</td>\n",
       "      <td>Debrecen, Sinai Miklós</td>\n",
       "      <td>https://www.findahome.hu/ingatlanok/debrecen-s...</td>\n",
       "    </tr>\n",
       "    <tr>\n",
       "      <th>2</th>\n",
       "      <td>140 000</td>\n",
       "      <td>59</td>\n",
       "      <td>1 living room(s), 1 bedroom(s), 1  bathroom(s)</td>\n",
       "      <td>Debrecen, Kardos Albert</td>\n",
       "      <td>https://www.findahome.hu/ingatlanok/debrecen-k...</td>\n",
       "    </tr>\n",
       "    <tr>\n",
       "      <th>3</th>\n",
       "      <td>280 000</td>\n",
       "      <td>100</td>\n",
       "      <td>1 living room(s), 4 bedroom(s), 1  bathroom(s)</td>\n",
       "      <td>Debrecen, Komlóssy street</td>\n",
       "      <td>https://www.findahome.hu/ingatlanok/debrecen1-...</td>\n",
       "    </tr>\n",
       "    <tr>\n",
       "      <th>4</th>\n",
       "      <td>420 000</td>\n",
       "      <td>112</td>\n",
       "      <td>1 living room(s), 3 bedroom(s), 1  bathroom(s)</td>\n",
       "      <td>Debrecen, Rákóczi</td>\n",
       "      <td>https://www.findahome.hu/ingatlanok/debrecen-b...</td>\n",
       "    </tr>\n",
       "  </tbody>\n",
       "</table>\n",
       "</div>"
      ],
      "text/plain": [
       "  Price (HUF) Size                                           Rooms  \\\n",
       "0     170 000   57  1 living room(s), 1 bedroom(s), 1  bathroom(s)   \n",
       "1     120 000   35  1 living room(s), 1 bedroom(s), 1  bathroom(s)   \n",
       "2     140 000   59  1 living room(s), 1 bedroom(s), 1  bathroom(s)   \n",
       "3     280 000  100  1 living room(s), 4 bedroom(s), 1  bathroom(s)   \n",
       "4     420 000  112  1 living room(s), 3 bedroom(s), 1  bathroom(s)   \n",
       "\n",
       "                         Address  \\\n",
       "0  Debrecen , Böszörményi street   \n",
       "1         Debrecen, Sinai Miklós   \n",
       "2        Debrecen, Kardos Albert   \n",
       "3      Debrecen, Komlóssy street   \n",
       "4              Debrecen, Rákóczi   \n",
       "\n",
       "                                                Link  \n",
       "0  https://www.findahome.hu/ingatlanok/furedi-res...  \n",
       "1  https://www.findahome.hu/ingatlanok/debrecen-s...  \n",
       "2  https://www.findahome.hu/ingatlanok/debrecen-k...  \n",
       "3  https://www.findahome.hu/ingatlanok/debrecen1-...  \n",
       "4  https://www.findahome.hu/ingatlanok/debrecen-b...  "
      ]
     },
     "execution_count": 106,
     "metadata": {},
     "output_type": "execute_result"
    }
   ],
   "source": [
    "df = pd.read_excel('housesTRIAL.xlsx')\n",
    "df = df.drop_duplicates()\n",
    "df.head()"
   ]
  },
  {
   "cell_type": "code",
   "execution_count": 107,
   "metadata": {},
   "outputs": [],
   "source": [
    "df_droppedna = df.loc[(df['Price (HUF)'].notna()) & (df['Rooms'].notna())]"
   ]
  },
  {
   "cell_type": "code",
   "execution_count": 108,
   "metadata": {},
   "outputs": [],
   "source": [
    "df_droppedna['Price (HUF)'] = df_droppedna['Price (HUF)'].str.replace(' ', '').str.replace('\\xa0', '').str.strip().astype(int)\n",
    "df_droppedna['Size'] = df_droppedna['Size'].str.replace(',', '.').str.replace('m2', '').str.strip()\n",
    "df_droppedna['Size'].replace(['-', '?', ''], np.nan, inplace=True)\n",
    "df_droppedna['Size'] = df_droppedna['Size'].astype(float).round(1)"
   ]
  },
  {
   "cell_type": "code",
   "execution_count": 109,
   "metadata": {},
   "outputs": [],
   "source": [
    "df_findahome = df_droppedna.loc[df_droppedna['Link'].str.contains('findahome')]\n",
    "df_great = df_droppedna.loc[(df_droppedna['Link'].str.contains('greatforest')) & (df_droppedna['Link'].str.contains('findahome') == False)]\n",
    "df_rent = df_droppedna.loc[df_droppedna['Link'].str.contains('debrecenrent.hu')]"
   ]
  },
  {
   "cell_type": "code",
   "execution_count": 110,
   "metadata": {},
   "outputs": [],
   "source": [
    "df3 = df_findahome['Rooms'].str.split(',', expand=True)\n",
    "df3.columns = ['Rooms{}'.format(x+1) for x in df3.columns]\n",
    "# df_findahome[['Living_rooms', 'Bedrooms', 'Bathrooms']] = df_findahome.Rooms.str.split(',', expand=True)\n",
    "df_findahome['Living_rooms'] = df3['Rooms1'].str[:-14].str.strip()\n",
    "df_findahome['Living_rooms'] = df_findahome['Living_rooms'].astype(int)\n",
    "df_findahome['Bedrooms'] = df3['Rooms2'].str[:-10].str.strip()\n",
    "df_findahome['Bedrooms'] = df_findahome['Bedrooms'].astype(int)\n",
    "df_findahome['Bathrooms'] = df3['Rooms3'].str[:-11].str.strip()\n",
    "df_findahome['Bathrooms'] = df_findahome['Bathrooms'].astype(int)\n",
    "df_findahome['Rooms'] = df_findahome['Living_rooms'] + df_findahome['Bedrooms']\n",
    "df_findahome['Rooms'] = df_findahome['Rooms'].astype(int)\n",
    "df_findahome.drop(columns=['Living_rooms', 'Bedrooms'], inplace=True)\n",
    "\n",
    "df3 = df_rent['Rooms'].str.split(',', expand=True)\n",
    "df3.columns = ['Rooms{}'.format(x+1) for x in df3.columns]\n",
    "df_rent['Bedrooms'] = df3['Rooms1'].str[:-8].str.strip()\n",
    "df_rent['Bedrooms'] = df_rent['Bedrooms'].astype(int)\n",
    "df_rent['Bathrooms'] = df3['Rooms2'].str[:-9].str.strip()\n",
    "df_rent['Bathrooms'] = df_rent['Bathrooms'].astype(int)\n",
    "df_rent['Rooms'] = df_rent['Bedrooms']\n",
    "df_rent['Rooms'] = df_rent['Rooms'].astype(int)\n",
    "df_rent.drop(columns=['Bedrooms'], inplace=True)\n",
    "\n",
    "df_great['Rooms'] = df_great['Rooms'].astype(int)\n",
    "dfs = [df_findahome, df_great, df_rent]\n",
    "df1 = pd.concat(dfs)\n",
    "df1 = df1[['Price (HUF)', 'Size', 'Rooms', 'Address', 'Bathrooms', 'Link']]\n",
    "df1['Size'] = df1['Size'].astype(float).round(1)\n",
    "# df1['Bathrooms'] = df1['Bathrooms'].fillna(0)\n",
    "df1['Bathrooms'] = df1['Bathrooms'].astype(float).round(0)"
   ]
  },
  {
   "cell_type": "code",
   "execution_count": 111,
   "metadata": {},
   "outputs": [
    {
     "name": "stdout",
     "output_type": "stream",
     "text": [
      "712\n"
     ]
    }
   ],
   "source": [
    "df1.rename(columns={'Size':'Size (m2)'}, inplace=True)\n",
    "df1 = df1[(df1['Price (HUF)'] < 1_000_000) & (df1['Size (m2)'] < 300) & (df1['Price (HUF)'] >= 45_000) & (df1['Rooms'] > 0)] \\\n",
    "    .sort_values('Price (HUF)').reset_index(drop=True)\n",
    "df1.to_excel(r'C:\\Users\\youse\\Desktop\\Data Analysis Portfolio\\Python\\Data Scraping\\streamlit\\Streamlit-1\\streamlit\\Houses_Cleaned.xlsx', index=False)\n",
    "print(len(df1))"
   ]
  },
  {
   "cell_type": "code",
   "execution_count": 112,
   "metadata": {},
   "outputs": [],
   "source": [
    "# # Authenticate with GitHub using an access token\n",
    "# g = Github(\"\")\n",
    "\n",
    "# repo_name = \"Streamlit\"\n",
    "# file_path = \"Houses_Cleaned.xlsx\"\n",
    "# commit_message = \"up to date data\"\n",
    "# branch_name = \"main\"\n",
    "\n",
    "# # Get the repository object\n",
    "# repo = g.get_user().get_repo(repo_name)\n",
    "\n",
    "# # Read the file contents\n",
    "# with open(file_path, 'rb') as file:\n",
    "#     content = file.read()\n",
    "\n",
    "# # Get the file from GitHub\n",
    "# try:\n",
    "#     file = repo.get_contents('streamlit/Houses_Cleaned.xlsx', ref=branch_name)\n",
    "#     # Update the file on GitHub\n",
    "#     repo.update_file('streamlit/Houses_Cleaned.xlsx', commit_message, content, file.sha, branch=branch_name)\n",
    "#     print(\"File updated successfully!\")\n",
    "# except:\n",
    "#     # Create the file on GitHub\n",
    "#     repo.create_file(file_path, commit_message, content, branch=branch_name)\n",
    "#     print(\"File uploaded successfully!\")"
   ]
  }
 ],
 "metadata": {
  "kernelspec": {
   "display_name": "Python 3",
   "language": "python",
   "name": "python3"
  },
  "language_info": {
   "codemirror_mode": {
    "name": "ipython",
    "version": 3
   },
   "file_extension": ".py",
   "mimetype": "text/x-python",
   "name": "python",
   "nbconvert_exporter": "python",
   "pygments_lexer": "ipython3",
   "version": "3.11.2"
  },
  "orig_nbformat": 4,
  "vscode": {
   "interpreter": {
    "hash": "0d51d7602a0e9a2b3d05b02d0b2785bfbe4f0fd69d432dcd1b35274cc0c15cb1"
   }
  }
 },
 "nbformat": 4,
 "nbformat_minor": 2
}
